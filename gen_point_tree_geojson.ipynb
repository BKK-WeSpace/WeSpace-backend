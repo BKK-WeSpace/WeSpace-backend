{
  "nbformat": 4,
  "nbformat_minor": 0,
  "metadata": {
    "colab": {
      "provenance": []
    },
    "kernelspec": {
      "name": "python3",
      "display_name": "Python 3"
    }
  },
  "cells": [
    {
      "cell_type": "code",
      "metadata": {
        "id": "65RChERMzQHZ"
      },
      "source": [
        "import ee"
      ],
      "execution_count": null,
      "outputs": []
    },
    {
      "cell_type": "code",
      "metadata": {
        "id": "NMp9Ei9b0XXL"
      },
      "source": [
        "# Trigger the authentication flow.\n",
        "ee.Authenticate()\n",
        "\n",
        "# Initialize the library.\n",
        "ee.Initialize()"
      ],
      "execution_count": null,
      "outputs": []
    },
    {
      "cell_type": "code",
      "source": [
        "!pip install geojson"
      ],
      "metadata": {
        "id": "CKppQ_FOHzhL"
      },
      "execution_count": null,
      "outputs": []
    },
    {
      "cell_type": "code",
      "source": [
        "import ee\n",
        "import json\n",
        "import geojson\n",
        "from geojson import Feature, Point, FeatureCollection\n",
        "\n",
        "# Initialize the Earth Engine API\n",
        "ee.Initialize()\n",
        "longitude_min =  100.55194295234655\n",
        "latitude_min = 13.733571685415455\n",
        "longitude_max = 100.5580444434391\n",
        "latitude_max =13.72573111966259\n",
        "\n",
        "# Define the area of interest (you can change this to any coordinates of a specific region)\n",
        "area_of_interest = ee.Geometry.Rectangle([longitude_min, latitude_min, longitude_max, latitude_max])\n",
        "\n",
        "# Use the Sentinel-2 satellite imagery\n",
        "sentinel2 = ee.ImageCollection(\"COPERNICUS/S2_SR\")\n",
        "\n",
        "# Filter the image collection by date and area of interest\n",
        "filtered_collection = sentinel2.filterDate('2020-01-01', '2020-12-31').filterBounds(area_of_interest)\n",
        "\n",
        "# Check if the filtered collection is empty\n",
        "if filtered_collection.size().getInfo() == 0:\n",
        "    print(\"No images found in the specified date range and area of interest.\")\n",
        "else:\n",
        "    # Select the first image from the filtered collection\n",
        "    image = filtered_collection.first()\n",
        "\n",
        "    # Normalized Difference Vegetation Index (NDVI) threshold (you can adjust this value based on your needs)\n",
        "    ndvi_threshold = 0.3\n",
        "\n",
        "    # Calculate NDVI using NIR (B8) and Red (B4) bands\n",
        "    ndvi = image.normalizedDifference(['B8', 'B4'])\n",
        "\n",
        "    # Create a binary image by setting pixels with NDVI greater than the threshold to 1, and others to 0\n",
        "    binary_image = ndvi.gt(ndvi_threshold)\n",
        "\n",
        "    # Apply connected pixel algorithm to filter out small patches of trees\n",
        "    connected_pixel_image = binary_image.connectedPixelCount(100, True).eq(100)\n",
        "\n",
        "    # Vectorize the connected pixel image\n",
        "    vectorized_image = connected_pixel_image.reduceToVectors(\n",
        "        geometry=area_of_interest,\n",
        "        scale=10,\n",
        "        maxPixels=1e9,\n",
        "        geometryType='centroid',\n",
        "        eightConnected=False,\n",
        "        labelProperty='tree'\n",
        "    )\n",
        "\n",
        "    # Convert the vectorized image to GeoJSON\n",
        "    features = vectorized_image.getInfo()[\"features\"]\n",
        "    geojson_data = geojson.FeatureCollection(features)\n",
        "\n",
        "    # Save the GeoJSON data to a file\n",
        "    with open(\"tree_locations.geojson\", \"w\") as f:\n",
        "        json.dump(geojson_data, f)\n"
      ],
      "metadata": {
        "id": "Dcun0U8HHjnd"
      },
      "execution_count": null,
      "outputs": []
    }
  ]
}